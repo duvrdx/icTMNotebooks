{
 "cells": [
  {
   "cell_type": "code",
   "execution_count": 2,
   "id": "9ad635e4",
   "metadata": {},
   "outputs": [],
   "source": [
    "import numpy as np\n",
    "import pandas as pd\n",
    "import librosa\n",
    "import matplotlib.pyplot as plt\n",
    "import os\n",
    "import time\n",
    "import config\n",
    "\n",
    "%matplotlib inline"
   ]
  },
  {
   "cell_type": "markdown",
   "id": "bcc82919",
   "metadata": {},
   "source": [
    "# Dataset"
   ]
  },
  {
   "cell_type": "code",
   "execution_count": 3,
   "id": "6e14fdd7",
   "metadata": {},
   "outputs": [
    {
     "name": "stdout",
     "output_type": "stream",
     "text": [
      "Informações sobre o Dataset - MusicNet \n",
      "-----------------------------------------------------------+++\n",
      "Caminho do dataset: /run/media/duvrdx/BACKUP/musicnet/\n",
      "330 arquivos de audio\n",
      "330 arquivos de rotulo\n",
      "-----------------------------------------------------------+++\n"
     ]
    }
   ],
   "source": [
    "## Imprimindo log\n",
    "print(f\"Informações sobre o Dataset - {config.name} \")\n",
    "print(\"-----------------------------------------------------------+++\")\n",
    "print(f\"Caminho do dataset: {config.path}\")\n",
    "print(f\"{config.audios} arquivos de audio\")\n",
    "print(f\"{config.labels} arquivos de rotulo\")\n",
    "print(\"-----------------------------------------------------------+++\")"
   ]
  },
  {
   "cell_type": "markdown",
   "id": "d0308e72",
   "metadata": {},
   "source": [
    "## Labels"
   ]
  },
  {
   "cell_type": "code",
   "execution_count": 3,
   "id": "e9a1a513",
   "metadata": {},
   "outputs": [
    {
     "name": "stdout",
     "output_type": "stream",
     "text": [
      "Informações sobre os rotulos\n",
      "-----------------------------------------------------------+++\n",
      "Caminho: /run/media/duvrdx/BACKUP/musicnet/labels\n",
      "Quantidade: 330\n",
      "Colunas: start_time, end_time, instrument, note, start_beat, end_beat, note_value\n",
      "-----------------------------------------------------------+++\n"
     ]
    },
    {
     "data": {
      "text/html": [
       "<div>\n",
       "<style scoped>\n",
       "    .dataframe tbody tr th:only-of-type {\n",
       "        vertical-align: middle;\n",
       "    }\n",
       "\n",
       "    .dataframe tbody tr th {\n",
       "        vertical-align: top;\n",
       "    }\n",
       "\n",
       "    .dataframe thead th {\n",
       "        text-align: right;\n",
       "    }\n",
       "</style>\n",
       "<table border=\"1\" class=\"dataframe\">\n",
       "  <thead>\n",
       "    <tr style=\"text-align: right;\">\n",
       "      <th></th>\n",
       "      <th>start_time</th>\n",
       "      <th>end_time</th>\n",
       "      <th>instrument</th>\n",
       "      <th>note</th>\n",
       "      <th>start_beat</th>\n",
       "      <th>end_beat</th>\n",
       "      <th>note_value</th>\n",
       "    </tr>\n",
       "  </thead>\n",
       "  <tbody>\n",
       "    <tr>\n",
       "      <th>0</th>\n",
       "      <td>9182</td>\n",
       "      <td>90078</td>\n",
       "      <td>43</td>\n",
       "      <td>53</td>\n",
       "      <td>4.0</td>\n",
       "      <td>1.5</td>\n",
       "      <td>Dotted Quarter</td>\n",
       "    </tr>\n",
       "    <tr>\n",
       "      <th>1</th>\n",
       "      <td>9182</td>\n",
       "      <td>33758</td>\n",
       "      <td>42</td>\n",
       "      <td>65</td>\n",
       "      <td>4.0</td>\n",
       "      <td>0.5</td>\n",
       "      <td>Eighth</td>\n",
       "    </tr>\n",
       "    <tr>\n",
       "      <th>2</th>\n",
       "      <td>9182</td>\n",
       "      <td>62430</td>\n",
       "      <td>1</td>\n",
       "      <td>69</td>\n",
       "      <td>4.0</td>\n",
       "      <td>1.0</td>\n",
       "      <td>Quarter</td>\n",
       "    </tr>\n",
       "    <tr>\n",
       "      <th>3</th>\n",
       "      <td>9182</td>\n",
       "      <td>202206</td>\n",
       "      <td>44</td>\n",
       "      <td>41</td>\n",
       "      <td>4.0</td>\n",
       "      <td>3.5</td>\n",
       "      <td>Whole</td>\n",
       "    </tr>\n",
       "    <tr>\n",
       "      <th>4</th>\n",
       "      <td>9182</td>\n",
       "      <td>62430</td>\n",
       "      <td>1</td>\n",
       "      <td>81</td>\n",
       "      <td>4.0</td>\n",
       "      <td>1.0</td>\n",
       "      <td>Quarter</td>\n",
       "    </tr>\n",
       "  </tbody>\n",
       "</table>\n",
       "</div>"
      ],
      "text/plain": [
       "   start_time  end_time  instrument  note  start_beat  end_beat  \\\n",
       "0        9182     90078          43    53         4.0       1.5   \n",
       "1        9182     33758          42    65         4.0       0.5   \n",
       "2        9182     62430           1    69         4.0       1.0   \n",
       "3        9182    202206          44    41         4.0       3.5   \n",
       "4        9182     62430           1    81         4.0       1.0   \n",
       "\n",
       "       note_value  \n",
       "0  Dotted Quarter  \n",
       "1          Eighth  \n",
       "2         Quarter  \n",
       "3           Whole  \n",
       "4         Quarter  "
      ]
     },
     "execution_count": 3,
     "metadata": {},
     "output_type": "execute_result"
    }
   ],
   "source": [
    "labels_cols_str = \"\" \n",
    "\n",
    "# info desnecessária\n",
    "#labels_extension = os.listdir(labels_path)[0].split(\".\")[1]\n",
    "df_test = pd.read_csv(labels_path + \"/\" + os.listdir(config.labels_path)[0])\n",
    "\n",
    "# Extraindo string com todas as colunas\n",
    "for pos, col in enumerate(df_test.columns.values):\n",
    "    if pos != 0:\n",
    "        labels_cols_str += f\", {col}\"\n",
    "    else:\n",
    "        labels_cols_str += col\n",
    "\n",
    "        \n",
    "\n",
    "## Imprimindo log\n",
    "print(f\"Informações sobre os rotulos\")\n",
    "print(\"-----------------------------------------------------------+++\")\n",
    "print(f\"Caminho: {config.labels_path}\")\n",
    "print(f\"Quantidade: {config.labels}\")\n",
    "print(f\"Colunas: {config.labels_cols_str}\")\n",
    "print(\"-----------------------------------------------------------+++\")\n",
    "\n",
    "df_test.head()"
   ]
  },
  {
   "cell_type": "markdown",
   "id": "b2efb9f1",
   "metadata": {},
   "source": [
    "## Audios\n"
   ]
  },
  {
   "cell_type": "code",
   "execution_count": 4,
   "id": "e5d9ceb8",
   "metadata": {},
   "outputs": [
    {
     "name": "stdout",
     "output_type": "stream",
     "text": [
      "Informações sobre os audios\n",
      "-----------------------------------------------------------+++\n",
      "Caminho: /run/media/duvrdx/BACKUP/musicnet/audios\n",
      "Quantidade: 330\n",
      "-----------------------------------------------------------+++\n"
     ]
    }
   ],
   "source": [
    "audios_id = os.listdir(audios_path)\n",
    "\n",
    "\n",
    "## Imprimindo log\n",
    "print(f\"Informações sobre os audios\")\n",
    "print(\"-----------------------------------------------------------+++\")\n",
    "print(f\"Caminho: {config.audios_path}\")\n",
    "print(f\"Quantidade: {config.audios}\")\n",
    "print(\"-----------------------------------------------------------+++\")"
   ]
  },
  {
   "cell_type": "markdown",
   "id": "c03fc4a9",
   "metadata": {},
   "source": [
    "# Testes de Performance"
   ]
  },
  {
   "cell_type": "markdown",
   "id": "bbd6d10e",
   "metadata": {},
   "source": [
    "## Teste de Leitura"
   ]
  },
  {
   "cell_type": "code",
   "execution_count": 5,
   "id": "5115044a",
   "metadata": {},
   "outputs": [],
   "source": [
    "#!pip install wave\n",
    "import wave\n",
    "\n",
    "read_tests = {}\n",
    "audio_quantity = 2\n",
    "test_quantity = 2\n",
    "\n",
    "## Rodando o teste n vezes para coletar tempo\n",
    "for i in range(audio_quantity):\n",
    "    current_id = audios_id[i][:-4]\n",
    "    read_tests[current_id] = []\n",
    "    \n",
    "    ## Carregando os m primeiros \"wav\"\n",
    "    for i in range(test_quantity):\n",
    "        begin = time.time()\n",
    "        audio_ , _ = librosa.load(audios_path + \"/\" + current_id + \".wav\")\n",
    "        final = time.time()\n",
    "        read_tests[current_id].append((final - begin))"
   ]
  },
  {
   "cell_type": "code",
   "execution_count": 6,
   "id": "27d9aa1b",
   "metadata": {},
   "outputs": [],
   "source": [
    "read_tests_median = {item: np.percentile(np.array(read_tests[item]), 50) for item in read_tests.keys()}\n",
    "read_tests_mean = {item: np.mean(np.array(read_tests[item])) for item in read_tests.keys()}"
   ]
  },
  {
   "cell_type": "code",
   "execution_count": 7,
   "id": "cea28a16",
   "metadata": {},
   "outputs": [
    {
     "data": {
      "text/plain": [
       "Text(0.5, 1.0, 'Tempo de Leitura Médio - 2 Testes')"
      ]
     },
     "execution_count": 7,
     "metadata": {},
     "output_type": "execute_result"
    },
    {
     "data": {
      "image/png": "[encoded data removed]",
      "text/plain": [
       "<Figure size 640x480 with 1 Axes>"
      ]
     },
     "metadata": {},
     "output_type": "display_data"
    }
   ],
   "source": [
    "plt.bar(read_tests_mean.keys(), read_tests_mean.values())\n",
    "plt.ylabel(\"Time (s)\")\n",
    "plt.xlabel(\"Audio Id\")\n",
    "plt.title(f\"Tempo de Leitura Médio - {test_quantity} Testes\")"
   ]
  },
  {
   "cell_type": "code",
   "execution_count": 8,
   "id": "dad167ca",
   "metadata": {},
   "outputs": [
    {
     "data": {
      "text/plain": [
       "Text(0.5, 1.0, 'Tempo de Leitura Mediano - 2 Testes')"
      ]
     },
     "execution_count": 8,
     "metadata": {},
     "output_type": "execute_result"
    },
    {
     "data": {
      "image/png": "[encoded data removed]",
      "text/plain": [
       "<Figure size 640x480 with 1 Axes>"
      ]
     },
     "metadata": {},
     "output_type": "display_data"
    }
   ],
   "source": [
    "plt.bar(read_tests_median.keys(), read_tests_median.values())\n",
    "plt.ylabel(\"Time (s)\")\n",
    "plt.xlabel(\"Audio Id\")\n",
    "plt.title(f\"Tempo de Leitura Mediano - {test_quantity} Testes\")"
   ]
  },
  {
   "cell_type": "code",
   "execution_count": 9,
   "id": "7b6d22b8",
   "metadata": {},
   "outputs": [],
   "source": [
    "import pickle"
   ]
  },
  {
   "cell_type": "code",
   "execution_count": 10,
   "id": "77fceb13",
   "metadata": {},
   "outputs": [],
   "source": [
    "read_tests_dump = open(\"read_tests.pck\", \"wb\") \n",
    "pickle.dump(read_tests, read_tests_dump)\n",
    "read_tests_dump.close()\n"
   ]
  },
  {
   "cell_type": "markdown",
   "id": "5c599e03",
   "metadata": {},
   "source": [
    "## Teste de Leitura - .npz\n"
   ]
  },
  {
   "cell_type": "code",
   "execution_count": 11,
   "id": "55025563",
   "metadata": {},
   "outputs": [],
   "source": [
    "musicnet = np.load('/home/duvrdx/Downloads/musicnet.npz', allow_pickle = True)"
   ]
  },
  {
   "cell_type": "code",
   "execution_count": null,
   "id": "f57a754a",
   "metadata": {},
   "outputs": [],
   "source": [
    "musicnet['1788']"
   ]
  },
  {
   "cell_type": "code",
   "execution_count": null,
   "id": "e62f634e",
   "metadata": {},
   "outputs": [],
   "source": [
    "## Rodando o teste n vezes para coletar tempo\n",
    "for i in range(audio_quantity):\n",
    "    current_id = audios_id[i][:-4]\n",
    "    read_tests[current_id] = []\n",
    "    \n",
    "    ## Carregando os m primeiros \"wav\"\n",
    "    for i in range(test_quantity):\n",
    "        begin = time.time()\n",
    "        print(musicnet[current_id])\n",
    "        final = time.time()\n",
    "        read_tests[current_id].append((final - begin))"
   ]
  }
 ],
 "metadata": {
  "kernelspec": {
   "display_name": "Python 3 (ipykernel)",
   "language": "python",
   "name": "python3"
  },
  "language_info": {
   "codemirror_mode": {
    "name": "ipython",
    "version": 3
   },
   "file_extension": ".py",
   "mimetype": "text/x-python",
   "name": "python",
   "nbconvert_exporter": "python",
   "pygments_lexer": "ipython3",
   "version": "3.10.8"
  }
 },
 "nbformat": 4,
 "nbformat_minor": 5
}
